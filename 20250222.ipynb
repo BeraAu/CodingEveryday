{
  "nbformat": 4,
  "nbformat_minor": 0,
  "metadata": {
    "colab": {
      "provenance": [],
      "authorship_tag": "ABX9TyNUDOdNyrbpekpb+DT7fpLY",
      "include_colab_link": true
    },
    "kernelspec": {
      "name": "python3",
      "display_name": "Python 3"
    },
    "language_info": {
      "name": "python"
    }
  },
  "cells": [
    {
      "cell_type": "markdown",
      "metadata": {
        "id": "view-in-github",
        "colab_type": "text"
      },
      "source": [
        "<a href=\"https://colab.research.google.com/github/BeraAu/CodingEveryday/blob/main/20250222.ipynb\" target=\"_parent\"><img src=\"https://colab.research.google.com/assets/colab-badge.svg\" alt=\"Open In Colab\"/></a>"
      ]
    },
    {
      "cell_type": "code",
      "execution_count": 5,
      "metadata": {
        "colab": {
          "base_uri": "https://localhost:8080/"
        },
        "id": "Lavo9f45Lxlz",
        "outputId": "d7bf4680-5939-49dd-bc04-375bbad85109"
      },
      "outputs": [
        {
          "output_type": "stream",
          "name": "stdout",
          "text": [
            "1 2 3 4 5\n",
            "No\n"
          ]
        }
      ],
      "source": [
        "#390A\n",
        "nums = [int(x) for x in input().split()]\n",
        "n = 0\n",
        "temp = 0\n",
        "for i in range(len(nums) - 1):\n",
        "  if nums[i] < nums[i + 1]: continue\n",
        "  else:\n",
        "    temp = nums[i]\n",
        "    nums[i] = nums[i + 1]\n",
        "    nums[i + 1] = temp\n",
        "    n += 1\n",
        "\n",
        "if n == 1:\n",
        "  print(\"Yes\")\n",
        "else:\n",
        "  print(\"No\")\n",
        "\n"
      ]
    }
  ]
}