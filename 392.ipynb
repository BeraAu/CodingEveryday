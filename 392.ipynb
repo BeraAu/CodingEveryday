{
  "nbformat": 4,
  "nbformat_minor": 0,
  "metadata": {
    "colab": {
      "provenance": [],
      "authorship_tag": "ABX9TyNYBaHuvxGKyIjY51kyUTEq",
      "include_colab_link": true
    },
    "kernelspec": {
      "name": "python3",
      "display_name": "Python 3"
    },
    "language_info": {
      "name": "python"
    }
  },
  "cells": [
    {
      "cell_type": "markdown",
      "metadata": {
        "id": "view-in-github",
        "colab_type": "text"
      },
      "source": [
        "<a href=\"https://colab.research.google.com/github/BeraAu/CodingEveryday/blob/main/392.ipynb\" target=\"_parent\"><img src=\"https://colab.research.google.com/assets/colab-badge.svg\" alt=\"Open In Colab\"/></a>"
      ]
    },
    {
      "cell_type": "code",
      "execution_count": null,
      "metadata": {
        "id": "KUpl4XO2qirt"
      },
      "outputs": [],
      "source": []
    },
    {
      "cell_type": "markdown",
      "source": [
        "A"
      ],
      "metadata": {
        "id": "8zLYBEO8qnRn"
      }
    },
    {
      "cell_type": "code",
      "source": [
        "input_str = input()\n",
        "num_list = [int(x) for x in input_str.split()]\n",
        "n = len(num_list)\n",
        "flag = \"No\"\n",
        "\n",
        "for i in range(n):\n",
        "    a = num_list[i]  # 要素を取り出すのではなく、インデックスでアクセス\n",
        "    for j in range(n):  # jの範囲もnまで\n",
        "        if i == j: continue #同じ要素の組み合わせはスキップ\n",
        "        b = num_list[j]  # 要素を取り出すのではなく、インデックスでアクセス\n",
        "        for k in range(n):  # kの範囲もnまで\n",
        "            if i == k or j == k: continue #同じ要素の組み合わせはスキップ\n",
        "            c = num_list[k]  # 要素を取り出すのではなく、インデックスでアクセス\n",
        "            if a * b == c:\n",
        "                flag = \"Yes\"\n",
        "                break\n",
        "        if flag == \"Yes\":\n",
        "            break\n",
        "    if flag == \"Yes\":\n",
        "        break\n",
        "\n",
        "print(flag)"
      ],
      "metadata": {
        "colab": {
          "base_uri": "https://localhost:8080/"
        },
        "id": "olVOZmN5qpT3",
        "outputId": "0ab5dc6c-1322-4813-b3f3-412fe8565db0"
      },
      "execution_count": 3,
      "outputs": [
        {
          "output_type": "stream",
          "name": "stdout",
          "text": [
            "3 5 15\n",
            "Yes\n"
          ]
        }
      ]
    }
  ]
}