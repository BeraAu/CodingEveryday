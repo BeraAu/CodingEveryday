{
  "nbformat": 4,
  "nbformat_minor": 0,
  "metadata": {
    "colab": {
      "provenance": [],
      "authorship_tag": "ABX9TyNKQMd4bqUREQKrOgi9tv3z",
      "include_colab_link": true
    },
    "kernelspec": {
      "name": "python3",
      "display_name": "Python 3"
    },
    "language_info": {
      "name": "python"
    }
  },
  "cells": [
    {
      "cell_type": "markdown",
      "metadata": {
        "id": "view-in-github",
        "colab_type": "text"
      },
      "source": [
        "<a href=\"https://colab.research.google.com/github/BeraAu/CodingEveryday/blob/main/202503/20250311.ipynb\" target=\"_parent\"><img src=\"https://colab.research.google.com/assets/colab-badge.svg\" alt=\"Open In Colab\"/></a>"
      ]
    },
    {
      "cell_type": "code",
      "execution_count": null,
      "metadata": {
        "id": "w0EaFceAFySW"
      },
      "outputs": [],
      "source": [
        "#386C\n",
        "\n",
        "k = int(input())\n",
        "s = input()\n",
        "t = input()\n",
        "s_damy1 =\"\"\n",
        "s_damy2 =\"\"\n",
        "s_damy3 =\"\"\n",
        "a = len(s)\n",
        "b = len(t)\n",
        "flag = False\n",
        "\n",
        "if a - b == 1:\n",
        "  for i in range(b):\n",
        "    if s[i] == t[i]:continue\n",
        "    else:\n",
        "      if i == 0:\n",
        "        s_damy1 = s[i + 1:]\n",
        "        break\n",
        "      s_damy1 = s[:i] + s[i + 1:]\n",
        "      break\n",
        "  if s_damy1 == t:\n",
        "    flag = True\n",
        "\n",
        "if b - a == 1:\n",
        "  for i in range(b):\n",
        "    if s[i] == t[i]:continue\n",
        "    else:\n",
        "      if i == 0:\n",
        "        s_damy2 = t[i + 1:]\n",
        "        break\n",
        "      s_damy2 = t[:i] + t[i + 1:]\n",
        "      break\n",
        "  if s_damy2 == s:\n",
        "    flag = True\n",
        "\n",
        "if a == b:\n",
        "  for i in range(a):\n",
        "    if s[i] == t[i]:continue\n",
        "    else:\n",
        "      if i == 0:\n",
        "        s_damy3 = t[i] + t[i + 1:]\n",
        "        break\n",
        "      s_damy3 = s[:i] + t[i] + s[i + 1:]\n",
        "      break\n",
        "  if s_damy3 == t:\n",
        "    flag = True\n",
        "\n",
        "if s == t:\n",
        "  flag = True\n",
        "\n",
        "if flag:\n",
        "  print(\"Yes\")\n",
        "\n",
        "else:\n",
        "  print(\"No\")\n",
        "\n",
        "\n",
        "\n"
      ]
    },
    {
      "cell_type": "code",
      "source": [
        "a=int(input())\n",
        "b=list(input())\n",
        "c=list(input())\n",
        "z='abcdefghijklmnopqrstuvwxyz'\n",
        "y=0\n",
        "s=False\n",
        "\n",
        "if b==c:\n",
        "    s=True\n",
        "elif len(c)==len(b):\n",
        "    for i in range(len(b)):#置換部分\n",
        "            if b[i]!=c[i]:\n",
        "                y+=1\n",
        "    if y<2:\n",
        "        s=True\n",
        "elif abs(len(c)-len(b)) == 1:\n",
        "    for i in range(26):\n",
        "        if abs(b.count(z[i])-c.count(z[i]))==1:\n",
        "            y+=1\n",
        "    if y==1:\n",
        "        s=True\n",
        "\n",
        "if s==True:\n",
        "    print('Yes')\n",
        "else:\n",
        "    print('No')\n",
        "\n"
      ],
      "metadata": {
        "id": "mq75YrFkX2nL"
      },
      "execution_count": null,
      "outputs": []
    }
  ]
}