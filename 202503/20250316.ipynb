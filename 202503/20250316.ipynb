{
  "nbformat": 4,
  "nbformat_minor": 0,
  "metadata": {
    "colab": {
      "provenance": [],
      "authorship_tag": "ABX9TyMB6uTLTRbSwdMUQc+6HQC1",
      "include_colab_link": true
    },
    "kernelspec": {
      "name": "python3",
      "display_name": "Python 3"
    },
    "language_info": {
      "name": "python"
    }
  },
  "cells": [
    {
      "cell_type": "markdown",
      "metadata": {
        "id": "view-in-github",
        "colab_type": "text"
      },
      "source": [
        "<a href=\"https://colab.research.google.com/github/BeraAu/CodingEveryday/blob/main/202503/20250316.ipynb\" target=\"_parent\"><img src=\"https://colab.research.google.com/assets/colab-badge.svg\" alt=\"Open In Colab\"/></a>"
      ]
    },
    {
      "cell_type": "code",
      "execution_count": null,
      "metadata": {
        "id": "tCbq_-i05dVU"
      },
      "outputs": [],
      "source": [
        "#385C\n",
        "n = int(input())\n",
        "h = list(map(int, input()split()))\n",
        "h_list = [ [] for x in range(3000) ]#i mの高さのビルのindexを保存\n",
        "count = 0\n",
        "\n",
        "for i in range(n):\n",
        "  h_list[h[i]].append(i)\n",
        "\n",
        "for i in range(3000):\n",
        "  temp = 0\n",
        " if len(h_list[i]) == 0:continue\n",
        " elif len(h_list[i]) == 1:\n",
        "  temp = 1\n",
        "  if count < temp:\n",
        "    count = temp\n",
        "  else:\n",
        "    continue\n",
        " elif len(h_list[i]) == 2:\n",
        "  temp = 2\n",
        "  if count < temp:\n",
        "    count = temp\n",
        "  else:\n",
        "    continue\n",
        " elif len(h_list([i])) >= 3:\n",
        "\n",
        "\n",
        "\n",
        "\n",
        "\n",
        "\n",
        "\n",
        "\n",
        "\n"
      ]
    },
    {
      "cell_type": "code",
      "source": [
        "N=int(input())\n",
        "H=list(map(int,input().split()))\n",
        "ans=1\n",
        "for i in range(N):\n",
        "    for w in range(1,N):\n",
        "        res=1\n",
        "        for j in range(i+w,N,w):\n",
        "            if H[i]==H[j]:\n",
        "                res+=1\n",
        "            else:\n",
        "                break\n",
        "        ans=max(ans,res)\n",
        "print(ans)\n",
        "\n",
        "\n"
      ],
      "metadata": {
        "id": "mFPtglcNANtu"
      },
      "execution_count": null,
      "outputs": []
    }
  ]
}