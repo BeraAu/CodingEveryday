{
  "nbformat": 4,
  "nbformat_minor": 0,
  "metadata": {
    "colab": {
      "provenance": [],
      "authorship_tag": "ABX9TyOiyy/7VUmkIFdj9FYRYjL7",
      "include_colab_link": true
    },
    "kernelspec": {
      "name": "python3",
      "display_name": "Python 3"
    },
    "language_info": {
      "name": "python"
    }
  },
  "cells": [
    {
      "cell_type": "markdown",
      "metadata": {
        "id": "view-in-github",
        "colab_type": "text"
      },
      "source": [
        "<a href=\"https://colab.research.google.com/github/BeraAu/CodingEveryday/blob/main/202503/20250308.ipynb\" target=\"_parent\"><img src=\"https://colab.research.google.com/assets/colab-badge.svg\" alt=\"Open In Colab\"/></a>"
      ]
    },
    {
      "cell_type": "code",
      "execution_count": 5,
      "metadata": {
        "colab": {
          "base_uri": "https://localhost:8080/"
        },
        "id": "PLmdHlqEXQXJ",
        "outputId": "58083396-af54-4810-990c-19a25faf1785"
      },
      "outputs": [
        {
          "output_type": "stream",
          "name": "stdout",
          "text": [
            "97 210\n",
            "44\n",
            "3\n",
            "-40\n"
          ]
        }
      ],
      "source": [
        "#397C\n",
        "\n",
        "def snakenumbercount(n):\n",
        "  count = 0\n",
        "  a = 1\n",
        "  for i in range(1, int(n[0]) + 1):\n",
        "    for j in range(1, len(n)):\n",
        "      if i > int(n[j]):\n",
        "        count += int(n[0]) ** (len(n) - 1)\n",
        "        a *= (int(n[j]) + 1)\n",
        "      if i <= int(n[j]):\n",
        "        a *= i\n",
        "    count += a\n",
        "    a = 1\n",
        "  return count\n",
        "\n",
        "def issnake(n):\n",
        "  for i in range(1, len(n)):\n",
        "    if int(n[0]) <= int(n[i]):\n",
        "      return False\n",
        "  return True\n",
        "\n",
        "\n",
        "l, r = input().split()\n",
        "print(snakenumbercount(l))\n",
        "print(snakenumbercount(r))\n",
        "ans = snakenumbercount(r) - snakenumbercount(l)\n",
        "if issnake(l):\n",
        "  ans += 1\n",
        "print(ans)\n",
        "\n",
        "\n"
      ]
    },
    {
      "cell_type": "code",
      "source": [
        "#397C\n",
        "\n",
        "def maxsnakenumber(n):\n",
        "  count = 0\n",
        "  a = 1\n",
        "  if n == 1:return 0\n",
        "  for i in range(1, 10):\n",
        "    for j in range(n - 1):\n",
        "      a *= i\n",
        "    count += a\n",
        "    a = 1\n",
        "  return count\n",
        "\n",
        "def snakenumbercount(n): #n桁の最大値の時の蛇数の数\n",
        "  count = 0\n",
        "  for i in range(1,n + 1):\n",
        "    count += maxsnakenumber(i)\n",
        "  return count\n",
        "\n",
        "def issnake(n):\n",
        "  for i in range(1, len(n)):\n",
        "    if int(n[0]) <= int(n[i]):\n",
        "      return False\n",
        "  return True\n",
        "\n",
        "def snakenum(a):\n",
        "  n = len(a)\n",
        "  a_list = list(map(int, a))\n",
        "  count = 0\n",
        "  count+= snakenumbercount(n - 1)\n",
        "  mul = 1\n",
        "  if a_list[0] == 1:\n",
        "    count += 1\n",
        "    return count\n",
        "  for i in range(1, a_list[0]):\n",
        "    for j in range(n - 1):\n",
        "      mul *= i\n",
        "    count += mul\n",
        "    mul = 1\n",
        "\n",
        "  for i in range(1, n):\n",
        "    if a_list[0] > a_list[i]:\n",
        "      mul *= (a_list[i] + 1)\n",
        "    if a_list[0] <= a_list[i]:\n",
        "      mul *= a_list[0]\n",
        "  count += mul\n",
        "  mul = 1\n",
        "  return count\n",
        "\n",
        "\n",
        "\n",
        "\n",
        "\n",
        "l, r = input().split()\n",
        "print(snakenum(l))\n",
        "print(snakenum(r))\n",
        "ans = snakenum(r) - snakenum(l)\n",
        "if issnake(l):\n",
        "  ans += 1\n",
        "print(ans)\n",
        "\n",
        "\n",
        "\n"
      ],
      "metadata": {
        "colab": {
          "base_uri": "https://localhost:8080/"
        },
        "id": "J0yaaG4ZkZlk",
        "outputId": "e93f6a33-fec9-4f7c-bb4a-c5044290f217"
      },
      "execution_count": 7,
      "outputs": [
        {
          "output_type": "stream",
          "name": "stdout",
          "text": [
            "97 210\n",
            "44\n",
            "48\n",
            "5\n"
          ]
        }
      ]
    },
    {
      "cell_type": "code",
      "source": [
        "#397C\n",
        "\n",
        "#桁数n,最初の桁の数がaの時に増える蛇数の個数\n",
        "def delta_firstDigit_is_a(n, a):\n",
        "  return a ** (n - 1)\n",
        "\n",
        "#桁数がn-1からnの時に増える蛇数の個数\n",
        "def delta_numDigit_is_n(n):\n",
        "  count = 0\n",
        "  for i in range(1, 10):\n",
        "    count += delta_firstDigit_is_a(n, i)\n",
        "\n",
        "  return count\n",
        "\n",
        "#桁数がnの時の蛇数の個数\n",
        "def maxSnakeNum(n):\n",
        "  count = 0\n",
        "  for i in range(2, n):\n",
        "    count += delta_numDigit_is_n(i)\n",
        "\n",
        "  return count\n",
        "\n",
        "#指定の数n桁数kの蛇数の個数 最初の桁の数 a 2番目の桁の数 b\n",
        "def currentSnakeNum(n, k, a, b):\n",
        "  count = 0\n",
        "  count += maxSnakeNum(n - 1)\n",
        "  if a <= b:\n",
        "    count += (b - 1) * b *(k - )\n",
        "\n",
        "\n"
      ],
      "metadata": {
        "id": "FrzwvyjOkb9f"
      },
      "execution_count": 6,
      "outputs": []
    },
    {
      "cell_type": "code",
      "source": [
        "def isSnake(x):\n",
        "    s = str(x)\n",
        "    for i in range(1, len(s)):\n",
        "        if int(s[i]) >= int(s[0]):\n",
        "            return False\n",
        "    return True\n",
        "\n",
        "def countSnake(x):\n",
        "    m = 0\n",
        "    d = 0\n",
        "    s = str(x)\n",
        "    head = int(s[0])\n",
        "    length = len(s)\n",
        "    for i in range(1, length):\n",
        "        if i < length - 1:\n",
        "            for j in range(9):\n",
        "                d += pow(j + 1, i)\n",
        "        else:\n",
        "            for j in range(head - 1):\n",
        "                d += pow(j + 1, i)\n",
        "    for i in range(1, length):\n",
        "        c = int(s[i])\n",
        "        if c >= head:\n",
        "            m += pow(head, length - i)\n",
        "            break\n",
        "        else:\n",
        "            m += c * pow(head, length - i - 1)\n",
        "    return m + d\n",
        "\n",
        "L, R = map(int, input().split())\n",
        "p = countSnake(L)\n",
        "q = countSnake(R)\n",
        "if isSnake(R) == True:\n",
        "    print(q - p + 1)\n",
        "else:\n",
        "    print(q - p)\n"
      ],
      "metadata": {
        "id": "dyGdNXYYEOaK"
      },
      "execution_count": null,
      "outputs": []
    }
  ]
}