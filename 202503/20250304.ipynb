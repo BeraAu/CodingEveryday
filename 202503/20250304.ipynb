{
  "nbformat": 4,
  "nbformat_minor": 0,
  "metadata": {
    "colab": {
      "provenance": [],
      "authorship_tag": "ABX9TyN01uprIes1380WeHYlUYsV",
      "include_colab_link": true
    },
    "kernelspec": {
      "name": "python3",
      "display_name": "Python 3"
    },
    "language_info": {
      "name": "python"
    }
  },
  "cells": [
    {
      "cell_type": "markdown",
      "metadata": {
        "id": "view-in-github",
        "colab_type": "text"
      },
      "source": [
        "<a href=\"https://colab.research.google.com/github/BeraAu/CodingEveryday/blob/main/202503/20250304.ipynb\" target=\"_parent\"><img src=\"https://colab.research.google.com/assets/colab-badge.svg\" alt=\"Open In Colab\"/></a>"
      ]
    },
    {
      "cell_type": "code",
      "execution_count": 3,
      "metadata": {
        "colab": {
          "base_uri": "https://localhost:8080/"
        },
        "id": "P8E286OBynhO",
        "outputId": "88f890cf-285d-498d-d080-daaef95d3146"
      },
      "outputs": [
        {
          "output_type": "stream",
          "name": "stdout",
          "text": [
            "5 10\n",
            "2\n",
            "0\n",
            "1 4 5\n",
            "1 4 5\n",
            "2\n",
            "1\n",
            "1 3 1\n",
            "2\n",
            "2\n",
            "1 2 3\n",
            "1 2 5\n",
            "1 1 3\n",
            "2\n",
            "1\n"
          ]
        }
      ],
      "source": [
        "#391C\n",
        "\n",
        "n, q = map(int, input().split())\n",
        "pie_box = [x + 1 for x in range(n)] #鳩iがいるbox番号\n",
        "count_pie = [1] * n #box i にいる鳩の数\n",
        "count = 0\n",
        "for i in range(q):\n",
        "  a = list(map(int, input().split()))\n",
        "  if a[0] == 1:\n",
        "    p = a[1]\n",
        "    h = a[2]\n",
        "    count_pie[pie_box[p - 1] - 1] -= 1 #鳩pがいるboxの鳩の数を-1\n",
        "    if count_pie[pie_box[p - 1] - 1] == 1:#boxにいる鳩の数が2->1の時、-1\n",
        "      count -= 1\n",
        "\n",
        "    pie_box[p - 1] = h #鳩pがいるbox番号をhに書き換え\n",
        "    count_pie[h - 1] += 1 #box hの鳩の数を+1\n",
        "    if count_pie[h - 1] == 2:\n",
        "      count += 1\n",
        "  if a[0] == 2:\n",
        "    print(count)\n",
        "\n",
        "\n"
      ]
    }
  ]
}