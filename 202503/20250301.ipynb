{
  "nbformat": 4,
  "nbformat_minor": 0,
  "metadata": {
    "colab": {
      "provenance": [],
      "authorship_tag": "ABX9TyOE2430HJ/QQMlfRXr6YA+f",
      "include_colab_link": true
    },
    "kernelspec": {
      "name": "python3",
      "display_name": "Python 3"
    },
    "language_info": {
      "name": "python"
    }
  },
  "cells": [
    {
      "cell_type": "markdown",
      "metadata": {
        "id": "view-in-github",
        "colab_type": "text"
      },
      "source": [
        "<a href=\"https://colab.research.google.com/github/BeraAu/CodingEveryday/blob/main/202503/20250301.ipynb\" target=\"_parent\"><img src=\"https://colab.research.google.com/assets/colab-badge.svg\" alt=\"Open In Colab\"/></a>"
      ]
    },
    {
      "cell_type": "code",
      "execution_count": 3,
      "metadata": {
        "colab": {
          "base_uri": "https://localhost:8080/"
        },
        "id": "tMUK0XXflquZ",
        "outputId": "877a5f07-3540-4ac9-d35f-137d9a3b8de5"
      },
      "outputs": [
        {
          "output_type": "stream",
          "name": "stdout",
          "text": [
            "3\n",
            "1 2 5\n",
            "Yes\n"
          ]
        }
      ],
      "source": [
        "#395A\n",
        "\n",
        "n = int(input())\n",
        "a = [int(x) for x in input().split()]\n",
        "flag = True\n",
        "\n",
        "for i in range(n - 1):\n",
        "  if a[i] >= a[i + 1]:\n",
        "    flag = False\n",
        "    break\n",
        "  else: continue\n",
        "\n",
        "if flag:\n",
        "  print(\"Yes\")\n",
        "else:\n",
        "  print(\"No\")"
      ]
    },
    {
      "cell_type": "code",
      "source": [
        "#395B\n",
        "\n",
        "n = int(input())\n",
        "ans =[ [\"\"] * n for _ in range(n)]\n",
        "\n",
        "for i in range(n):\n",
        "  if n + 1 - 2 * i >= 0:\n",
        "    for k in range(i, n - i):\n",
        "      for l in range(i, n - i):\n",
        "        if i % 2 == 0:\n",
        "          ans[k][l] = \"#\"\n",
        "        else:\n",
        "          ans[k][l] = \".\"\n",
        "  else:continue\n",
        "\n",
        "for i in range(n):\n",
        "  print(\"\".join(ans[i]))\n"
      ],
      "metadata": {
        "colab": {
          "base_uri": "https://localhost:8080/"
        },
        "id": "sGkYJIc5n0Wu",
        "outputId": "1f0bca60-7438-49b7-b52d-1012077e2a98"
      },
      "execution_count": 9,
      "outputs": [
        {
          "output_type": "stream",
          "name": "stdout",
          "text": [
            "11\n",
            "###########\n",
            "#.........#\n",
            "#.#######.#\n",
            "#.#.....#.#\n",
            "#.#.###.#.#\n",
            "#.#.#.#.#.#\n",
            "#.#.###.#.#\n",
            "#.#.....#.#\n",
            "#.#######.#\n",
            "#.........#\n",
            "###########\n"
          ]
        }
      ]
    },
    {
      "cell_type": "code",
      "source": [
        "#395C\n",
        "\n",
        "n = int(input())\n",
        "a = [int(x) for x in input().split()]\n",
        "ans = 10 ** 6\n",
        "\n",
        "for i in range(n - 1):\n",
        "  for j in range(i + 1, n):\n",
        "    if a[i] == a[j]:\n",
        "      if j - i + 1 < ans:\n",
        "        ans = j - i + 1\n",
        "        break\n",
        "    else:continue\n",
        "\n",
        "if ans == 10 ** 6:\n",
        "  print(-1)\n",
        "else:\n",
        "  print(ans)\n",
        ""
      ],
      "metadata": {
        "colab": {
          "base_uri": "https://localhost:8080/",
          "height": 373
        },
        "id": "4kFT--zHtFKj",
        "outputId": "664065e4-7891-46d3-fdc9-388ea80a4be1"
      },
      "execution_count": 14,
      "outputs": [
        {
          "output_type": "error",
          "ename": "KeyboardInterrupt",
          "evalue": "Interrupted by user",
          "traceback": [
            "\u001b[0;31m---------------------------------------------------------------------------\u001b[0m",
            "\u001b[0;31mKeyboardInterrupt\u001b[0m                         Traceback (most recent call last)",
            "\u001b[0;32m<ipython-input-14-56d6c2868b80>\u001b[0m in \u001b[0;36m<cell line: 0>\u001b[0;34m()\u001b[0m\n\u001b[1;32m      1\u001b[0m \u001b[0;31m#395C\u001b[0m\u001b[0;34m\u001b[0m\u001b[0;34m\u001b[0m\u001b[0m\n\u001b[1;32m      2\u001b[0m \u001b[0;34m\u001b[0m\u001b[0m\n\u001b[0;32m----> 3\u001b[0;31m \u001b[0mn\u001b[0m \u001b[0;34m=\u001b[0m \u001b[0mint\u001b[0m\u001b[0;34m(\u001b[0m\u001b[0minput\u001b[0m\u001b[0;34m(\u001b[0m\u001b[0;34m)\u001b[0m\u001b[0;34m)\u001b[0m\u001b[0;34m\u001b[0m\u001b[0;34m\u001b[0m\u001b[0m\n\u001b[0m\u001b[1;32m      4\u001b[0m \u001b[0ma\u001b[0m \u001b[0;34m=\u001b[0m \u001b[0;34m[\u001b[0m\u001b[0mint\u001b[0m\u001b[0;34m(\u001b[0m\u001b[0mx\u001b[0m\u001b[0;34m)\u001b[0m \u001b[0;32mfor\u001b[0m \u001b[0mx\u001b[0m \u001b[0;32min\u001b[0m \u001b[0minput\u001b[0m\u001b[0;34m(\u001b[0m\u001b[0;34m)\u001b[0m\u001b[0;34m.\u001b[0m\u001b[0msplit\u001b[0m\u001b[0;34m(\u001b[0m\u001b[0;34m)\u001b[0m\u001b[0;34m]\u001b[0m\u001b[0;34m\u001b[0m\u001b[0;34m\u001b[0m\u001b[0m\n\u001b[1;32m      5\u001b[0m \u001b[0mans\u001b[0m \u001b[0;34m=\u001b[0m \u001b[0;36m10\u001b[0m \u001b[0;34m**\u001b[0m \u001b[0;36m6\u001b[0m\u001b[0;34m\u001b[0m\u001b[0;34m\u001b[0m\u001b[0m\n",
            "\u001b[0;32m/usr/local/lib/python3.11/dist-packages/ipykernel/kernelbase.py\u001b[0m in \u001b[0;36mraw_input\u001b[0;34m(self, prompt)\u001b[0m\n\u001b[1;32m   1175\u001b[0m                 \u001b[0;34m\"raw_input was called, but this frontend does not support input requests.\"\u001b[0m\u001b[0;34m\u001b[0m\u001b[0;34m\u001b[0m\u001b[0m\n\u001b[1;32m   1176\u001b[0m             )\n\u001b[0;32m-> 1177\u001b[0;31m         return self._input_request(\n\u001b[0m\u001b[1;32m   1178\u001b[0m             \u001b[0mstr\u001b[0m\u001b[0;34m(\u001b[0m\u001b[0mprompt\u001b[0m\u001b[0;34m)\u001b[0m\u001b[0;34m,\u001b[0m\u001b[0;34m\u001b[0m\u001b[0;34m\u001b[0m\u001b[0m\n\u001b[1;32m   1179\u001b[0m             \u001b[0mself\u001b[0m\u001b[0;34m.\u001b[0m\u001b[0m_parent_ident\u001b[0m\u001b[0;34m[\u001b[0m\u001b[0;34m\"shell\"\u001b[0m\u001b[0;34m]\u001b[0m\u001b[0;34m,\u001b[0m\u001b[0;34m\u001b[0m\u001b[0;34m\u001b[0m\u001b[0m\n",
            "\u001b[0;32m/usr/local/lib/python3.11/dist-packages/ipykernel/kernelbase.py\u001b[0m in \u001b[0;36m_input_request\u001b[0;34m(self, prompt, ident, parent, password)\u001b[0m\n\u001b[1;32m   1217\u001b[0m             \u001b[0;32mexcept\u001b[0m \u001b[0mKeyboardInterrupt\u001b[0m\u001b[0;34m:\u001b[0m\u001b[0;34m\u001b[0m\u001b[0;34m\u001b[0m\u001b[0m\n\u001b[1;32m   1218\u001b[0m                 \u001b[0;31m# re-raise KeyboardInterrupt, to truncate traceback\u001b[0m\u001b[0;34m\u001b[0m\u001b[0;34m\u001b[0m\u001b[0m\n\u001b[0;32m-> 1219\u001b[0;31m                 \u001b[0;32mraise\u001b[0m \u001b[0mKeyboardInterrupt\u001b[0m\u001b[0;34m(\u001b[0m\u001b[0;34m\"Interrupted by user\"\u001b[0m\u001b[0;34m)\u001b[0m \u001b[0;32mfrom\u001b[0m \u001b[0;32mNone\u001b[0m\u001b[0;34m\u001b[0m\u001b[0;34m\u001b[0m\u001b[0m\n\u001b[0m\u001b[1;32m   1220\u001b[0m             \u001b[0;32mexcept\u001b[0m \u001b[0mException\u001b[0m\u001b[0;34m:\u001b[0m\u001b[0;34m\u001b[0m\u001b[0;34m\u001b[0m\u001b[0m\n\u001b[1;32m   1221\u001b[0m                 \u001b[0mself\u001b[0m\u001b[0;34m.\u001b[0m\u001b[0mlog\u001b[0m\u001b[0;34m.\u001b[0m\u001b[0mwarning\u001b[0m\u001b[0;34m(\u001b[0m\u001b[0;34m\"Invalid Message:\"\u001b[0m\u001b[0;34m,\u001b[0m \u001b[0mexc_info\u001b[0m\u001b[0;34m=\u001b[0m\u001b[0;32mTrue\u001b[0m\u001b[0;34m)\u001b[0m\u001b[0;34m\u001b[0m\u001b[0;34m\u001b[0m\u001b[0m\n",
            "\u001b[0;31mKeyboardInterrupt\u001b[0m: Interrupted by user"
          ]
        }
      ]
    },
    {
      "cell_type": "code",
      "source": [
        "#395C\n",
        "\n",
        "def find_shortest_subarray(a):\n",
        "    n = len(a)\n",
        "    ans = float('inf')\n",
        "    positions = {}\n",
        "\n",
        "    for i, x in enumerate(a):\n",
        "        if x in positions:\n",
        "            ans = min(ans, i - positions[x] + 1)\n",
        "        positions[x] = i\n",
        "\n",
        "    if ans == float('inf'):\n",
        "        return -1\n",
        "    else:\n",
        "        return ans\n",
        "\n",
        "n = int(input())\n",
        "a = list(map(int, input().split()))\n",
        "\n",
        "result = find_shortest_subarray(a)\n",
        "print(result)"
      ],
      "metadata": {
        "colab": {
          "base_uri": "https://localhost:8080/"
        },
        "id": "LarndqW1zHSr",
        "outputId": "bddc167f-cfb9-4113-e413-c697634c96f4"
      },
      "execution_count": 15,
      "outputs": [
        {
          "output_type": "stream",
          "name": "stdout",
          "text": [
            "5\n",
            "3 9 5 3 1\n",
            "4\n"
          ]
        }
      ]
    },
    {
      "cell_type": "code",
      "source": [
        "#395D\n",
        "\n",
        "def q1(peace, a, b):\n",
        "    peace[a - 1] = b\n",
        "    return peace\n",
        "\n",
        "def q2(peace, a, b):\n",
        "    for i in range(len(peace)):\n",
        "        if peace[i] == a:\n",
        "            peace[i] = b\n",
        "        elif peace[i] == b:\n",
        "            peace[i] = a\n",
        "    return peace\n",
        "\n",
        "def q3(peace, a):\n",
        "    print(peace[a - 1])\n",
        "\n",
        "n, q = map(int, input().split())\n",
        "peace = [x for x in range(1, n + 1)]\n",
        "\n",
        "for i in range(q):\n",
        "    op = [int(x) for x in input().split()]\n",
        "    if op[0] == 1:\n",
        "        peace = q1(peace, op[1], op[2])\n",
        "    elif op[0] == 2:\n",
        "        peace = q2(peace, op[1], op[2])\n",
        "    elif op[0] == 3:\n",
        "        q3(peace, op[1])"
      ],
      "metadata": {
        "colab": {
          "base_uri": "https://localhost:8080/"
        },
        "id": "uIHtVM3Lz9oI",
        "outputId": "623f68c7-11d6-4d47-e1f4-e3fea5291a57"
      },
      "execution_count": 18,
      "outputs": [
        {
          "output_type": "stream",
          "name": "stdout",
          "text": [
            "1 2\n",
            "1 1 1\n",
            "3 1\n",
            "1\n"
          ]
        }
      ]
    },
    {
      "cell_type": "code",
      "source": [
        "#395D\n",
        "\n",
        "def q1(peace, positions, a, b):\n",
        "    positions[peace[a - 1]] = b - 1\n",
        "    peace[a - 1] = b\n",
        "    positions[b] = a - 1\n",
        "    return peace, positions\n",
        "\n",
        "def q2(peace, positions, a, b):\n",
        "    a_indices = [i for i, x in enumerate(peace) if x == a]\n",
        "    b_indices = [i for i, x in enumerate(peace) if x == b]\n",
        "\n",
        "    for i in a_indices:\n",
        "        peace[i] = b\n",
        "        positions[b] = i\n",
        "    for i in b_indices:\n",
        "        peace[i] = a\n",
        "        positions[a] = i\n",
        "\n",
        "    positions[a], positions[b] = positions[b], positions[a]\n",
        "    return peace, positions\n",
        "\n",
        "def q3(peace, a):\n",
        "    print(peace[a - 1])\n",
        "\n",
        "n, q = map(int, input().split())\n",
        "peace = [x for x in range(1, n + 1)]\n",
        "positions = {x: i for i, x in enumerate(peace)}\n",
        "\n",
        "for i in range(q):\n",
        "    op = [int(x) for x in input().split()]\n",
        "    if op[0] == 1:\n",
        "        peace, positions = q1(peace, positions, op[1], op[2])\n",
        "    elif op[0] == 2:\n",
        "        peace, positions = q2(peace, positions, op[1], op[2])\n",
        "    elif op[0] == 3:\n",
        "        q3(peace, op[1])"
      ],
      "metadata": {
        "colab": {
          "base_uri": "https://localhost:8080/"
        },
        "id": "ZTbT-JnA6byM",
        "outputId": "58d0f60b-057c-41ca-daeb-fdde6112e894"
      },
      "execution_count": 19,
      "outputs": [
        {
          "output_type": "stream",
          "name": "stdout",
          "text": [
            "1 2\n",
            "1 1 1\n",
            "3 1\n",
            "1\n"
          ]
        }
      ]
    },
    {
      "cell_type": "code",
      "source": [
        "#395D\n",
        "\n",
        "def q1(peace, positions, indices, a, b):\n",
        "    val_a = peace[a - 1]\n",
        "    val_b = b\n",
        "    peace[a - 1], peace[positions[val_b]] = val_b, val_a\n",
        "    positions[val_a], positions[val_b] = positions[val_b], positions[val_a]\n",
        "    indices[positions[val_a]], indices[positions[val_b]] = val_a, val_b\n",
        "    return peace, positions, indices\n",
        "\n",
        "def q2(peace, positions, indices, a, b):\n",
        "    index_a = positions[a]\n",
        "    index_b = positions[b]\n",
        "    peace[index_a], peace[index_b] = peace[index_b], peace[index_a]\n",
        "    positions[a], positions[b] = positions[b], positions[a]\n",
        "    indices[index_a], indices[index_b] = b, a\n",
        "    return peace, positions, indices\n",
        "\n",
        "def q3(peace, a):\n",
        "    print(peace[a - 1])\n",
        "\n",
        "n, q = map(int, input().split())\n",
        "peace = [x for x in range(1, n + 1)]\n",
        "positions = {x: i for i, x in enumerate(peace)}\n",
        "indices = {i: x for i, x in enumerate(peace)}\n",
        "\n",
        "for i in range(q):\n",
        "    op = [int(x) for x in input().split()]\n",
        "    if op[0] == 1:\n",
        "        peace, positions, indices = q1(peace, positions, indices, op[1], op[2])\n",
        "    elif op[0] == 2:\n",
        "        peace, positions, indices = q2(peace, positions, indices, op[1], op[2])\n",
        "    elif op[0] == 3:\n",
        "        q3(peace, op[1])"
      ],
      "metadata": {
        "colab": {
          "base_uri": "https://localhost:8080/",
          "height": 373
        },
        "id": "EnMh1Eb3mA_H",
        "outputId": "6eaf1b25-71b0-400a-8814-705a85693599"
      },
      "execution_count": 22,
      "outputs": [
        {
          "output_type": "error",
          "ename": "KeyboardInterrupt",
          "evalue": "Interrupted by user",
          "traceback": [
            "\u001b[0;31m---------------------------------------------------------------------------\u001b[0m",
            "\u001b[0;31mKeyboardInterrupt\u001b[0m                         Traceback (most recent call last)",
            "\u001b[0;32m<ipython-input-22-cc7ecd8becc5>\u001b[0m in \u001b[0;36m<cell line: 0>\u001b[0;34m()\u001b[0m\n\u001b[1;32m     20\u001b[0m     \u001b[0mprint\u001b[0m\u001b[0;34m(\u001b[0m\u001b[0mpeace\u001b[0m\u001b[0;34m[\u001b[0m\u001b[0ma\u001b[0m \u001b[0;34m-\u001b[0m \u001b[0;36m1\u001b[0m\u001b[0;34m]\u001b[0m\u001b[0;34m)\u001b[0m\u001b[0;34m\u001b[0m\u001b[0;34m\u001b[0m\u001b[0m\n\u001b[1;32m     21\u001b[0m \u001b[0;34m\u001b[0m\u001b[0m\n\u001b[0;32m---> 22\u001b[0;31m \u001b[0mn\u001b[0m\u001b[0;34m,\u001b[0m \u001b[0mq\u001b[0m \u001b[0;34m=\u001b[0m \u001b[0mmap\u001b[0m\u001b[0;34m(\u001b[0m\u001b[0mint\u001b[0m\u001b[0;34m,\u001b[0m \u001b[0minput\u001b[0m\u001b[0;34m(\u001b[0m\u001b[0;34m)\u001b[0m\u001b[0;34m.\u001b[0m\u001b[0msplit\u001b[0m\u001b[0;34m(\u001b[0m\u001b[0;34m)\u001b[0m\u001b[0;34m)\u001b[0m\u001b[0;34m\u001b[0m\u001b[0;34m\u001b[0m\u001b[0m\n\u001b[0m\u001b[1;32m     23\u001b[0m \u001b[0mpeace\u001b[0m \u001b[0;34m=\u001b[0m \u001b[0;34m[\u001b[0m\u001b[0mx\u001b[0m \u001b[0;32mfor\u001b[0m \u001b[0mx\u001b[0m \u001b[0;32min\u001b[0m \u001b[0mrange\u001b[0m\u001b[0;34m(\u001b[0m\u001b[0;36m1\u001b[0m\u001b[0;34m,\u001b[0m \u001b[0mn\u001b[0m \u001b[0;34m+\u001b[0m \u001b[0;36m1\u001b[0m\u001b[0;34m)\u001b[0m\u001b[0;34m]\u001b[0m\u001b[0;34m\u001b[0m\u001b[0;34m\u001b[0m\u001b[0m\n\u001b[1;32m     24\u001b[0m \u001b[0mpositions\u001b[0m \u001b[0;34m=\u001b[0m \u001b[0;34m{\u001b[0m\u001b[0mx\u001b[0m\u001b[0;34m:\u001b[0m \u001b[0mi\u001b[0m \u001b[0;32mfor\u001b[0m \u001b[0mi\u001b[0m\u001b[0;34m,\u001b[0m \u001b[0mx\u001b[0m \u001b[0;32min\u001b[0m \u001b[0menumerate\u001b[0m\u001b[0;34m(\u001b[0m\u001b[0mpeace\u001b[0m\u001b[0;34m)\u001b[0m\u001b[0;34m}\u001b[0m\u001b[0;34m\u001b[0m\u001b[0;34m\u001b[0m\u001b[0m\n",
            "\u001b[0;32m/usr/local/lib/python3.11/dist-packages/ipykernel/kernelbase.py\u001b[0m in \u001b[0;36mraw_input\u001b[0;34m(self, prompt)\u001b[0m\n\u001b[1;32m   1175\u001b[0m                 \u001b[0;34m\"raw_input was called, but this frontend does not support input requests.\"\u001b[0m\u001b[0;34m\u001b[0m\u001b[0;34m\u001b[0m\u001b[0m\n\u001b[1;32m   1176\u001b[0m             )\n\u001b[0;32m-> 1177\u001b[0;31m         return self._input_request(\n\u001b[0m\u001b[1;32m   1178\u001b[0m             \u001b[0mstr\u001b[0m\u001b[0;34m(\u001b[0m\u001b[0mprompt\u001b[0m\u001b[0;34m)\u001b[0m\u001b[0;34m,\u001b[0m\u001b[0;34m\u001b[0m\u001b[0;34m\u001b[0m\u001b[0m\n\u001b[1;32m   1179\u001b[0m             \u001b[0mself\u001b[0m\u001b[0;34m.\u001b[0m\u001b[0m_parent_ident\u001b[0m\u001b[0;34m[\u001b[0m\u001b[0;34m\"shell\"\u001b[0m\u001b[0;34m]\u001b[0m\u001b[0;34m,\u001b[0m\u001b[0;34m\u001b[0m\u001b[0;34m\u001b[0m\u001b[0m\n",
            "\u001b[0;32m/usr/local/lib/python3.11/dist-packages/ipykernel/kernelbase.py\u001b[0m in \u001b[0;36m_input_request\u001b[0;34m(self, prompt, ident, parent, password)\u001b[0m\n\u001b[1;32m   1217\u001b[0m             \u001b[0;32mexcept\u001b[0m \u001b[0mKeyboardInterrupt\u001b[0m\u001b[0;34m:\u001b[0m\u001b[0;34m\u001b[0m\u001b[0;34m\u001b[0m\u001b[0m\n\u001b[1;32m   1218\u001b[0m                 \u001b[0;31m# re-raise KeyboardInterrupt, to truncate traceback\u001b[0m\u001b[0;34m\u001b[0m\u001b[0;34m\u001b[0m\u001b[0m\n\u001b[0;32m-> 1219\u001b[0;31m                 \u001b[0;32mraise\u001b[0m \u001b[0mKeyboardInterrupt\u001b[0m\u001b[0;34m(\u001b[0m\u001b[0;34m\"Interrupted by user\"\u001b[0m\u001b[0;34m)\u001b[0m \u001b[0;32mfrom\u001b[0m \u001b[0;32mNone\u001b[0m\u001b[0;34m\u001b[0m\u001b[0;34m\u001b[0m\u001b[0m\n\u001b[0m\u001b[1;32m   1220\u001b[0m             \u001b[0;32mexcept\u001b[0m \u001b[0mException\u001b[0m\u001b[0;34m:\u001b[0m\u001b[0;34m\u001b[0m\u001b[0;34m\u001b[0m\u001b[0m\n\u001b[1;32m   1221\u001b[0m                 \u001b[0mself\u001b[0m\u001b[0;34m.\u001b[0m\u001b[0mlog\u001b[0m\u001b[0;34m.\u001b[0m\u001b[0mwarning\u001b[0m\u001b[0;34m(\u001b[0m\u001b[0;34m\"Invalid Message:\"\u001b[0m\u001b[0;34m,\u001b[0m \u001b[0mexc_info\u001b[0m\u001b[0;34m=\u001b[0m\u001b[0;32mTrue\u001b[0m\u001b[0;34m)\u001b[0m\u001b[0;34m\u001b[0m\u001b[0;34m\u001b[0m\u001b[0m\n",
            "\u001b[0;31mKeyboardInterrupt\u001b[0m: Interrupted by user"
          ]
        }
      ]
    },
    {
      "cell_type": "code",
      "source": [
        "#395D\n",
        "\n",
        "n, q = map(int, input().split())\n",
        "peace = [x for x in range(n)] #鳩iがいる巣の番号\n",
        "tag  = [x for x in range(n)] #タグiが入っている巣の番号\n",
        "nest = [x for x in range(n)] #i番目の巣に入っているタグの番号\n",
        "\n",
        "for i in range(q):\n",
        "    op = [int(x) for x in input().split()]\n",
        "    if op[0] == 1:\n",
        "       peace[op[1] - 1] = tag[op[2] - 1]\n",
        "    elif op[0] == 2:\n",
        "        tag[op[1] - 1], tag[op[2] - 1] = tag[op[2] - 1], tag[op[1] - 1]\n",
        "        nest[tag[op[1] - 1]], nest[tag[op[2] - 1]] = nest[tag[op[2] - 1]], nest[tag[op[1] - 1]]\n",
        "    elif op[0] == 3:\n",
        "        print(nest[peace[op[1] - 1]] + 1)"
      ],
      "metadata": {
        "id": "LZgp8IpM8W67"
      },
      "execution_count": null,
      "outputs": []
    },
    {
      "cell_type": "code",
      "source": [],
      "metadata": {
        "id": "vIrS_ZOz6-eY"
      },
      "execution_count": null,
      "outputs": []
    }
  ]
}