{
  "nbformat": 4,
  "nbformat_minor": 0,
  "metadata": {
    "colab": {
      "provenance": [],
      "authorship_tag": "ABX9TyMaxL2QjZOYX4JCP8MJKP2d",
      "include_colab_link": true
    },
    "kernelspec": {
      "name": "python3",
      "display_name": "Python 3"
    },
    "language_info": {
      "name": "python"
    }
  },
  "cells": [
    {
      "cell_type": "markdown",
      "metadata": {
        "id": "view-in-github",
        "colab_type": "text"
      },
      "source": [
        "<a href=\"https://colab.research.google.com/github/BeraAu/CodingEveryday/blob/main/202503/20250307.ipynb\" target=\"_parent\"><img src=\"https://colab.research.google.com/assets/colab-badge.svg\" alt=\"Open In Colab\"/></a>"
      ]
    },
    {
      "cell_type": "code",
      "execution_count": 2,
      "metadata": {
        "colab": {
          "base_uri": "https://localhost:8080/",
          "height": 110
        },
        "id": "KkwBBMnlBCeN",
        "outputId": "dfe48b7b-4741-4538-ca0f-0f6fb60b2194"
      },
      "outputs": [
        {
          "output_type": "error",
          "ename": "SyntaxError",
          "evalue": "invalid syntax (<ipython-input-2-d23a5f58b033>, line 8)",
          "traceback": [
            "\u001b[0;36m  File \u001b[0;32m\"<ipython-input-2-d23a5f58b033>\"\u001b[0;36m, line \u001b[0;32m8\u001b[0m\n\u001b[0;31m    elif a_i[i] ==\u001b[0m\n\u001b[0m                   ^\u001b[0m\n\u001b[0;31mSyntaxError\u001b[0m\u001b[0;31m:\u001b[0m invalid syntax\n"
          ]
        }
      ],
      "source": [
        "#398C\n",
        "\n",
        "n = int(input())\n",
        "a_i = list(map(int, input().split()))\n",
        "max = a_i[n - 1] / 2 + 1\n",
        "bn = 0\n",
        "for i in range(n):\n",
        "  if a_i[i] >= max: break\n",
        "  elif a_i[i] == bn:break\n",
        "  elif a_i[i] < max:\n",
        "    bn = a_i[i]\n",
        "\n",
        ""
      ]
    },
    {
      "cell_type": "code",
      "source": [
        "from bisect import bisect\n",
        "\n",
        "\n",
        "N = int(input())\n",
        "A = list(map(int, input().split()))\n",
        "\n",
        "ans = 0\n",
        "\n",
        "for a in A:\n",
        "    # A の要素のうち a / 2 以下のものの個数を合計する\n",
        "    ans += bisect(A, a // 2)\n",
        "\n",
        "print(ans)\n"
      ],
      "metadata": {
        "id": "Z3h1PsueBMdI"
      },
      "execution_count": 1,
      "outputs": []
    }
  ]
}