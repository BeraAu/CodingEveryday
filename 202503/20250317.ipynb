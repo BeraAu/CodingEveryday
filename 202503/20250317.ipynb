{
  "nbformat": 4,
  "nbformat_minor": 0,
  "metadata": {
    "colab": {
      "provenance": [],
      "authorship_tag": "ABX9TyP3pOnRzPk1y78087N2rxiV",
      "include_colab_link": true
    },
    "kernelspec": {
      "name": "python3",
      "display_name": "Python 3"
    },
    "language_info": {
      "name": "python"
    }
  },
  "cells": [
    {
      "cell_type": "markdown",
      "metadata": {
        "id": "view-in-github",
        "colab_type": "text"
      },
      "source": [
        "<a href=\"https://colab.research.google.com/github/BeraAu/CodingEveryday/blob/main/202503/20250317.ipynb\" target=\"_parent\"><img src=\"https://colab.research.google.com/assets/colab-badge.svg\" alt=\"Open In Colab\"/></a>"
      ]
    },
    {
      "cell_type": "code",
      "execution_count": 8,
      "metadata": {
        "colab": {
          "base_uri": "https://localhost:8080/"
        },
        "id": "z7S0Aw8r_T67",
        "outputId": "b594819c-d36d-48f4-8274-d32a0b5c7ca4"
      },
      "outputs": [
        {
          "output_type": "stream",
          "name": "stdout",
          "text": [
            "128 256 512 1024 2048\n",
            "ABCDE\n",
            "BCDE\n",
            "ACDE\n",
            "CDE\n",
            "ABDE\n",
            "BDE\n",
            "ADE\n",
            "DE\n",
            "ABCE\n",
            "BCE\n",
            "ACE\n",
            "CE\n",
            "ABE\n",
            "BE\n",
            "AE\n",
            "E\n",
            "ABCD\n",
            "BCD\n",
            "ACD\n",
            "CD\n",
            "ABD\n",
            "BD\n",
            "AD\n",
            "D\n",
            "ABC\n",
            "BC\n",
            "AC\n",
            "C\n",
            "AB\n",
            "B\n",
            "A\n"
          ]
        }
      ],
      "source": [
        "#384C\n",
        "\n",
        "score = list(map(int, input().split(\" \")))\n",
        "c = \"ABCDE\"\n",
        "d = [\"A\", \"B\", \"C\", \"D\", \"E\" ]\n",
        "s = []\n",
        "max = sum(score)\n",
        "ans =[(max, \"ABCDE\")]\n",
        "for i in range(5):\n",
        "  s.append((score[i], d[i]))\n",
        "\n",
        "for i in range(1, 3): #選ぶ得点の数\n",
        "  temp_c = \"\"\n",
        "  temp_c_two = \"\"\n",
        "  temp_s = 0\n",
        "  temp_s_two = 0\n",
        "  if i == 1:\n",
        "    for j in range(5):\n",
        "      temp_s += score[j]\n",
        "      temp_c += d[j]\n",
        "      ans.append((temp_s, temp_c))\n",
        "      temp_s = 0\n",
        "      temp_c = \"\"\n",
        "\n",
        "      for k in range(5):\n",
        "        if j != k:\n",
        "          temp_s_two += score[k]\n",
        "          temp_c_two += d[k]\n",
        "\n",
        "      ans.append((temp_s_two, temp_c_two))\n",
        "      temp_s_two = 0\n",
        "      temp_c_two = \"\"\n",
        "\n",
        "  if i == 2:\n",
        "    for j in range(4):\n",
        "      for k in range(j + 1,5):\n",
        "        temp_s += score[j] + score[k]\n",
        "        temp_c += d[j] + d[k]\n",
        "        ans.append((temp_s, temp_c))\n",
        "        temp_s = 0\n",
        "        temp_c = \"\"\n",
        "\n",
        "        temp_s_two += max - score[j] - score[k]\n",
        "        temp_c_two += c.replace(d[j], \"\").replace(d[k], \"\")\n",
        "        ans.append((temp_s_two, temp_c_two))\n",
        "        temp_s_two = 0\n",
        "        temp_c_two = \"\"\n",
        "\n",
        "ans.sort(key=lambda x: (-x[0], x[1]))\n",
        "for i in range (len(ans)):\n",
        "  print(ans[i][1])\n",
        "\n",
        "\n",
        "\n",
        "\n",
        "\n",
        "\n"
      ]
    },
    {
      "cell_type": "code",
      "source": [
        "import itertools\n",
        "\n",
        "score = list(map(int, input().split()))\n",
        "chars = \"ABCDE\"\n",
        "max_score = sum(score)\n",
        "ans = [(max_score, chars)]\n",
        "\n",
        "for num_selected in range(1, 3):  # 選ぶ得点の数\n",
        "    for selected_indices in itertools.combinations(range(5), num_selected):\n",
        "        selected_scores = [score[i] for i in selected_indices]\n",
        "        selected_chars = \"\".join(chars[i] for i in selected_indices)\n",
        "        ans.append((sum(selected_scores), selected_chars))\n",
        "\n",
        "        remaining_scores = [score[i] for i in range(5) if i not in selected_indices]\n",
        "        remaining_chars = \"\".join(chars[i] for i in range(5) if i not in selected_indices)\n",
        "        ans.append((sum(remaining_scores), remaining_chars))\n",
        "\n",
        "ans.sort(key=lambda x: (-x[0], x[1]))\n",
        "for _, chars in ans:\n",
        "    print(chars)"
      ],
      "metadata": {
        "id": "OEtGLWrPJ5uf"
      },
      "execution_count": null,
      "outputs": []
    }
  ]
}