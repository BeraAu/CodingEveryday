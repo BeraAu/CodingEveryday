{
  "nbformat": 4,
  "nbformat_minor": 0,
  "metadata": {
    "colab": {
      "provenance": [],
      "authorship_tag": "ABX9TyMBFVSsDk9nJWQKz4BH9gOL",
      "include_colab_link": true
    },
    "kernelspec": {
      "name": "python3",
      "display_name": "Python 3"
    },
    "language_info": {
      "name": "python"
    }
  },
  "cells": [
    {
      "cell_type": "markdown",
      "metadata": {
        "id": "view-in-github",
        "colab_type": "text"
      },
      "source": [
        "<a href=\"https://colab.research.google.com/github/BeraAu/CodingEveryday/blob/main/202503/20250315.ipynb\" target=\"_parent\"><img src=\"https://colab.research.google.com/assets/colab-badge.svg\" alt=\"Open In Colab\"/></a>"
      ]
    },
    {
      "cell_type": "code",
      "execution_count": 2,
      "metadata": {
        "colab": {
          "base_uri": "https://localhost:8080/"
        },
        "id": "HtJiS98wsNcc",
        "outputId": "17aa6eb3-a1c1-4d92-b966-30db83c543a0"
      },
      "outputs": [
        {
          "output_type": "stream",
          "name": "stdout",
          "text": [
            "37.2\n",
            "3\n"
          ]
        }
      ],
      "source": [
        "#388A\n",
        "\n",
        "x = float(input())\n",
        "\n",
        "if x >= 38:\n",
        "  print(1)\n",
        "elif x < 37.5:\n",
        "  print(3)\n",
        "else:\n",
        "  print(2)"
      ]
    },
    {
      "cell_type": "code",
      "source": [
        "#388B\n",
        "\n",
        "\n",
        "S = input()\n",
        "n = len(S)\n",
        "count = 0\n",
        "\n",
        "\n",
        "target = \"\"\n",
        "for i in range(n - 1):\n",
        "  if S[i] == \"i\" and S[i + 1] == \"i\":\n",
        "    target += \"io\"\n",
        "    count += 1\n",
        "  elif S[i] == \"o\" and S[i + 1] == \"o\":\n",
        "    target += \"oi\"\n",
        "    count += 1\n",
        "\n",
        "if S[0] == \"o\":\n",
        "  count += 1\n",
        "\n",
        "if S[n - 1] == \"i\":\n",
        "  count += 1\n",
        "\n",
        "print(count)"
      ],
      "metadata": {
        "id": "OEKgqS1otaGy"
      },
      "execution_count": null,
      "outputs": []
    },
    {
      "cell_type": "code",
      "source": [
        "#388C\n",
        "\n",
        "n = int(input())\n",
        "a = list(map(int, input().split()))\n",
        "nums_left = [0] * (n - 1) #左端からsetに入れ込んだ時のsetの要素数\n",
        "nums_right = [0] * (n - 1) #右端からsetに入れ込んだ時のsetの要素数\n",
        "set_left = set()\n",
        "set_right = set()\n",
        "max = 0\n",
        "\n",
        "for i in range(n - 1):\n",
        "  set_left.add(a[i])\n",
        "  set_right.add(a[n - i - 1])\n",
        "  nums_left[i] = len(set_left) #iで切った時の左側の種類数\n",
        "  nums_right[n - i - 2] = len(set_right)\n",
        "\n",
        "for i in range(n - 1):\n",
        "  if max <= nums_left[i] + nums_right[i]:\n",
        "    max = (nums_left[i] + nums_right[i])\n",
        "\n",
        "print(max)\n",
        "\n",
        "\n",
        "\n",
        "\n"
      ],
      "metadata": {
        "id": "86DzNtjf0EY9"
      },
      "execution_count": null,
      "outputs": []
    },
    {
      "cell_type": "code",
      "source": [
        "#388D\n",
        "import math\n",
        "\n",
        "n = int(input())\n",
        "\n",
        "def find_xy(N):\n",
        "  discovers = set()\n",
        "  for i in range(1,int(math.isqrt(n)) + 1):\n",
        "    if n % i == 0:\n",
        "      discovers.add(i)\n",
        "      discovers.add(n // i)\n",
        "\n",
        "  for a in sorted(discovers):\n",
        "    b = n // a\n",
        "\n",
        "    discriminant = 4 * b - a ** 2\n",
        "    if discriminant <= 0:\n",
        "      continue\n",
        "    if discriminant % 3 != 0:\n",
        "      continue\n",
        "\n",
        "    sqrt_val = discriminant // 3\n",
        "    root = math.isqrt(sqrt_val)\n",
        "    if sqrt_val != root ** 2:\n",
        "      continue\n",
        "\n",
        "    numerator = root - a\n",
        "    if numerator % 2 != 0:\n",
        "      continue\n",
        "    y = numerator // 2\n",
        "    if y <= 0:\n",
        "      continue\n",
        "\n",
        "    x = y + a\n",
        "    if x <= 0:\n",
        "      continue\n",
        "    return (x,y)\n",
        "\n",
        "  return (-1,)\n",
        "\n",
        "  ans = find_xy(n)\n",
        "  if ans[0] == -1:\n",
        "    print(-1)\n",
        "  else:\n",
        "    print(ans[0], ans[1])\n",
        "\n",
        "\n",
        "\n"
      ],
      "metadata": {
        "colab": {
          "base_uri": "https://localhost:8080/"
        },
        "id": "hUo2T-N64WXV",
        "outputId": "6d22aa55-d7fa-4c74-fc7f-853e53f81140"
      },
      "execution_count": 4,
      "outputs": [
        {
          "name": "stdout",
          "output_type": "stream",
          "text": [
            "397\n"
          ]
        }
      ]
    }
  ]
}