{
  "nbformat": 4,
  "nbformat_minor": 0,
  "metadata": {
    "colab": {
      "provenance": [],
      "authorship_tag": "ABX9TyPYk10UIqDahtXm8iAio0a/",
      "include_colab_link": true
    },
    "kernelspec": {
      "name": "python3",
      "display_name": "Python 3"
    },
    "language_info": {
      "name": "python"
    }
  },
  "cells": [
    {
      "cell_type": "markdown",
      "metadata": {
        "id": "view-in-github",
        "colab_type": "text"
      },
      "source": [
        "<a href=\"https://colab.research.google.com/github/BeraAu/CodingEveryday/blob/main/202503/20250303.ipynb\" target=\"_parent\"><img src=\"https://colab.research.google.com/assets/colab-badge.svg\" alt=\"Open In Colab\"/></a>"
      ]
    },
    {
      "cell_type": "code",
      "execution_count": 17,
      "metadata": {
        "colab": {
          "base_uri": "https://localhost:8080/"
        },
        "id": "8LE4mNmkVJ1N",
        "outputId": "a8db8b38-04fc-4647-9a76-23047a52d530"
      },
      "outputs": [
        {
          "output_type": "stream",
          "name": "stdout",
          "text": [
            "4\n",
            "4 3 2 1\n",
            "2 3 1 4\n",
            "3 4 1 2 "
          ]
        }
      ],
      "source": [
        "#392C\n",
        "\n",
        "n = int(input())\n",
        "p = list(map(int, input().split()))\n",
        "q = list(map(int, input().split()))\n",
        "a = list(enumerate(q))\n",
        "\n",
        "a.sort(key=lambda x : x[1])\n",
        "for i in range(n):\n",
        "  t = a[i][0] + 1   #iが書かれたゼッケンを着ている人\n",
        "  u = p[t - 1]#iが書かれたゼッケンを着ている人が見つめている人\n",
        "  v = q[u - 1] #iが書かれたゼッケンを着ている人が見つめている人がきているゼッケン\n",
        "  print(v, end=\" \")"
      ]
    }
  ]
}