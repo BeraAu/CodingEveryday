{
  "nbformat": 4,
  "nbformat_minor": 0,
  "metadata": {
    "colab": {
      "provenance": [],
      "authorship_tag": "ABX9TyPAXirfhKJiEUAUxdKMo31f",
      "include_colab_link": true
    },
    "kernelspec": {
      "name": "python3",
      "display_name": "Python 3"
    },
    "language_info": {
      "name": "python"
    }
  },
  "cells": [
    {
      "cell_type": "markdown",
      "metadata": {
        "id": "view-in-github",
        "colab_type": "text"
      },
      "source": [
        "<a href=\"https://colab.research.google.com/github/BeraAu/CodingEveryday/blob/main/202503/20250302.ipynb\" target=\"_parent\"><img src=\"https://colab.research.google.com/assets/colab-badge.svg\" alt=\"Open In Colab\"/></a>"
      ]
    },
    {
      "cell_type": "code",
      "execution_count": null,
      "metadata": {
        "id": "JyvyaJFwlNbl"
      },
      "outputs": [],
      "source": [
        "#393C\n",
        "\n",
        "N, M = map(int, input().split())\n",
        "s = [[-1] * N for _ in range(N)]\n",
        "count = 0\n",
        "for i in range(M):\n",
        "  u, v = map(int, input().split())\n",
        "  if u == v:\n",
        "    count += 1\n",
        "  else:\n",
        "    if u > v:\n",
        "      u, v = v, u\n",
        "    if s[u - 1][v - 1] == -1:\n",
        "      s[u - 1][v - 1] = 1\n",
        "    else:\n",
        "      count += 1\n",
        "\n",
        "print(count)\n",
        "\n",
        "\n"
      ]
    },
    {
      "cell_type": "code",
      "source": [
        "#393C\n",
        "\n",
        "N, M = map(int, input().split())\n",
        "edges = set()  # 頂点のペアを格納する集合\n",
        "count = 0\n",
        "\n",
        "for i in range(M):\n",
        "    u, v = map(int, input().split())\n",
        "    if u == v:\n",
        "        count += 1\n",
        "    else:\n",
        "        if u > v:\n",
        "            u, v = v, u\n",
        "        if (u, v) in edges:\n",
        "            count += 1\n",
        "        else:\n",
        "            edges.add((u, v))\n",
        "\n",
        "print(count)"
      ],
      "metadata": {
        "id": "X4qUs2vFwdRM"
      },
      "execution_count": null,
      "outputs": []
    }
  ]
}