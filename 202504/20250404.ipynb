{
  "nbformat": 4,
  "nbformat_minor": 0,
  "metadata": {
    "colab": {
      "provenance": [],
      "authorship_tag": "ABX9TyMdvahDP+QsGDI/bNuIOcHw"
    },
    "kernelspec": {
      "name": "python3",
      "display_name": "Python 3"
    },
    "language_info": {
      "name": "python"
    }
  },
  "cells": [
    {
      "cell_type": "code",
      "execution_count": 3,
      "metadata": {
        "colab": {
          "base_uri": "https://localhost:8080/"
        },
        "id": "dfya4pfM02PL",
        "outputId": "a689e7d6-f2bf-4a2e-e75c-d7bc593b8f91"
      },
      "outputs": [
        {
          "output_type": "stream",
          "name": "stdout",
          "text": [
            "400\n",
            "1.0\n"
          ]
        }
      ],
      "source": [
        "#400A\n",
        "\n",
        "n = int(input())\n",
        "\n",
        "if 400 % n == 0:\n",
        "  print(400 / n)\n",
        "else:\n",
        "  print(-1)"
      ]
    },
    {
      "cell_type": "code",
      "source": [
        "#400B\n",
        "\n",
        "n, m = map(int, input().split())\n",
        "\n",
        "if n == 1:\n",
        "  print(m + 1)\n",
        "else:\n",
        "  sum = (n ** (m + 1) - 1) // (n - 1)\n",
        "\n",
        "  if sum <= 1000000000:\n",
        "    print(sum)\n",
        "  else:\n",
        "    print(\"inf\")"
      ],
      "metadata": {
        "colab": {
          "base_uri": "https://localhost:8080/"
        },
        "id": "c06GsUF52GUc",
        "outputId": "30f5102e-dd03-4084-a7ef-66fa55618028"
      },
      "execution_count": 15,
      "outputs": [
        {
          "output_type": "stream",
          "name": "stdout",
          "text": [
            "7 3\n",
            "400\n"
          ]
        }
      ]
    },
    {
      "cell_type": "code",
      "source": [
        "#400C\n",
        "import math\n",
        "\n",
        "def get_prime(n):\n",
        "    if n <= 1:\n",
        "        return []\n",
        "    prime = [2]\n",
        "    limit = int(math.sqrt(n))\n",
        "\n",
        "    #奇数リストの生成\n",
        "    data = [i + 1 for i in range(2, n, 2)]\n",
        "    while limit > data[0]:\n",
        "        prime.append(data[0])\n",
        "        data = [j for j in data if j % data[0] != 0]\n",
        "\n",
        "    return prime + data\n",
        "\n",
        "\n",
        "n = int(input())\n",
        "max_b = int(math.sqrt(n))\n",
        "prime_list = get_prime(max_b)\n",
        "count = 0\n",
        "\n",
        "for i in prime_list:\n",
        "  if i % 2 == 0:\n",
        "    continue\n",
        "  else:\n",
        "    temp = i\n",
        "    while n < temp:\n",
        "      temp *= 2\n",
        "      count += 1\n",
        "\n",
        "count -= 1\n",
        "count += n // 2\n",
        "\n",
        "print(count)\n",
        "\n",
        "\n",
        "\n",
        "\n"
      ],
      "metadata": {
        "colab": {
          "base_uri": "https://localhost:8080/"
        },
        "id": "hs5y4AF527Pc",
        "outputId": "3d1bad7a-df9a-40a4-9346-47b954f500af"
      },
      "execution_count": 19,
      "outputs": [
        {
          "output_type": "stream",
          "name": "stdout",
          "text": [
            "20\n",
            "9\n"
          ]
        }
      ]
    },
    {
      "cell_type": "code",
      "source": [
        "import math\n",
        "\n",
        "n = int(input())\n",
        "count = 0\n",
        "e = 1\n",
        "while True:\n",
        "    temp = 2 ** e\n",
        "    if temp > n:\n",
        "        break\n",
        "    max_m_squared = n // temp\n",
        "    if max_m_squared == 0:\n",
        "        e += 1\n",
        "        continue\n",
        "    m_max = math.isqrt(max_m_squared)\n",
        "    odd_count = (m_max + 1) // 2\n",
        "    count += odd_count\n",
        "    e += 1\n",
        "print(count)"
      ],
      "metadata": {
        "colab": {
          "base_uri": "https://localhost:8080/"
        },
        "id": "9rep9O8nEEFw",
        "outputId": "7184590b-69ab-4a50-9e75-a2de77dfa262"
      },
      "execution_count": 22,
      "outputs": [
        {
          "output_type": "stream",
          "name": "stdout",
          "text": [
            "1234567890\n",
            "42413\n"
          ]
        }
      ]
    },
    {
      "cell_type": "code",
      "source": [
        "import math\n",
        "def get_prime(n):\n",
        "    if n <= 1:\n",
        "        return []\n",
        "    prime = [2]\n",
        "    limit = int(math.sqrt(n))\n",
        "\n",
        "    #奇数リストの生成\n",
        "    data = [i + 1 for i in range(2, n, 2)]\n",
        "    while limit > data[0]:\n",
        "        prime.append(data[0])\n",
        "        data = [j for j in data if j % data[0] != 0]\n",
        "\n",
        "    return prime + data\n",
        "\n",
        "print(get_prime(100))"
      ],
      "metadata": {
        "colab": {
          "base_uri": "https://localhost:8080/"
        },
        "id": "edU62Yi-Atpw",
        "outputId": "7923fbe3-db3d-4247-c434-94a16490b717"
      },
      "execution_count": 18,
      "outputs": [
        {
          "output_type": "stream",
          "name": "stdout",
          "text": [
            "[2, 3, 5, 7, 11, 13, 17, 19, 23, 29, 31, 37, 41, 43, 47, 53, 59, 61, 67, 71, 73, 79, 83, 89, 97]\n"
          ]
        }
      ]
    },
    {
      "cell_type": "code",
      "source": [
        "#400D\n",
        "\n",
        "h, w = map(int, input().split())\n",
        "town_map = []\n",
        "\n",
        "for i in range(h):\n",
        "  town_map.append(input())\n",
        "\n",
        "a, b, c, d = map(int, input().split())\n",
        "\n",
        "\n"
      ],
      "metadata": {
        "id": "N7vIAVsp4p87"
      },
      "execution_count": null,
      "outputs": []
    }
  ]
}