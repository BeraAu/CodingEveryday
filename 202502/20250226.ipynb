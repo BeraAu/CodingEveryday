{
  "nbformat": 4,
  "nbformat_minor": 0,
  "metadata": {
    "colab": {
      "provenance": [],
      "authorship_tag": "ABX9TyMhcoqBcvjxOLTkFnCy+2SE",
      "include_colab_link": true
    },
    "kernelspec": {
      "name": "python3",
      "display_name": "Python 3"
    },
    "language_info": {
      "name": "python"
    }
  },
  "cells": [
    {
      "cell_type": "markdown",
      "metadata": {
        "id": "view-in-github",
        "colab_type": "text"
      },
      "source": [
        "<a href=\"https://colab.research.google.com/github/BeraAu/CodingEveryday/blob/main/202502/20250226.ipynb\" target=\"_parent\"><img src=\"https://colab.research.google.com/assets/colab-badge.svg\" alt=\"Open In Colab\"/></a>"
      ]
    },
    {
      "cell_type": "code",
      "execution_count": 1,
      "metadata": {
        "colab": {
          "base_uri": "https://localhost:8080/"
        },
        "id": "MX14rbu4RIFp",
        "outputId": "c7b28024-d9f8-4053-8693-8b7bc054eba6"
      },
      "outputs": [
        {
          "output_type": "stream",
          "name": "stdout",
          "text": [
            "Kyoto\n",
            "KUPC\n"
          ]
        }
      ],
      "source": [
        "#388A\n",
        "\n",
        "s = input()\n",
        "print(s[0] + \"UPC\")"
      ]
    },
    {
      "cell_type": "code",
      "source": [
        "#388B\n",
        "\n",
        "n, d = map(int, input().split())\n",
        "tlist = []\n",
        "llist = []\n",
        "for i in range(n):\n",
        "  t, l = map(int, input().split())\n",
        "  tlist.append(t)\n",
        "  llist.append(l)\n",
        "\n",
        "for k in range(1,d + 1):\n",
        "  max = 0\n",
        "  for i in range(n):\n",
        "    w = tlist[i] * (llist[i] + k)\n",
        "    if max <= w:\n",
        "      max = w\n",
        "    else:continue\n",
        "  print(max)\n",
        "\n"
      ],
      "metadata": {
        "colab": {
          "base_uri": "https://localhost:8080/"
        },
        "id": "NtHFtrxnR63-",
        "outputId": "0ab8dd0d-82e0-46e7-c34c-d9963cd6ed34"
      },
      "execution_count": 4,
      "outputs": [
        {
          "output_type": "stream",
          "name": "stdout",
          "text": [
            "4 3\n",
            "3 3\n",
            "5 1\n",
            "2 4\n",
            "1 10\n",
            "12\n",
            "15\n",
            "20\n"
          ]
        }
      ]
    }
  ]
}