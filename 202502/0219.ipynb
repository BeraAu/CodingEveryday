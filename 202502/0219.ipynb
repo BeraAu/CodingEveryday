{
  "nbformat": 4,
  "nbformat_minor": 0,
  "metadata": {
    "colab": {
      "provenance": [],
      "authorship_tag": "ABX9TyOwQwFU35GzFRWtjJ8ddkdu",
      "include_colab_link": true
    },
    "kernelspec": {
      "name": "python3",
      "display_name": "Python 3"
    },
    "language_info": {
      "name": "python"
    }
  },
  "cells": [
    {
      "cell_type": "markdown",
      "metadata": {
        "id": "view-in-github",
        "colab_type": "text"
      },
      "source": [
        "<a href=\"https://colab.research.google.com/github/BeraAu/CodingEveryday/blob/main/392B.ipynb\" target=\"_parent\"><img src=\"https://colab.research.google.com/assets/colab-badge.svg\" alt=\"Open In Colab\"/></a>"
      ]
    },
    {
      "cell_type": "code",
      "execution_count": 11,
      "metadata": {
        "id": "x3AKnSYRQSWU",
        "colab": {
          "base_uri": "https://localhost:8080/"
        },
        "outputId": "6c1ad6ab-be85-42e1-a7cd-293b7db294c4"
      },
      "outputs": [
        {
          "output_type": "stream",
          "name": "stdout",
          "text": [
            "9 1\n",
            "9\n",
            "8\n",
            "1 2 3 4 5 6 7 8 "
          ]
        }
      ],
      "source": [
        "num_list1 = [int(x) for x in input().split()]\n",
        "n = num_list1[0]\n",
        "m = num_list1[1]\n",
        "a = [int(x) for x in input().split()]\n",
        "output_list = [i for i in range(1, n + 1)]\n",
        "list = sorted(a)\n",
        "l = 0\n",
        "for x in list:\n",
        "  output_list.pop(x - 1 - l)\n",
        "  l += 1\n",
        "\n",
        "print(len(output_list))\n",
        "for j in output_list:\n",
        "  print(j, end=\" \")"
      ]
    },
    {
      "cell_type": "code",
      "source": [
        "1"
      ],
      "metadata": {
        "id": "OGCOjH5RWPzc"
      },
      "execution_count": null,
      "outputs": []
    }
  ]
}
