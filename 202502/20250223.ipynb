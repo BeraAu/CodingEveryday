{
  "nbformat": 4,
  "nbformat_minor": 0,
  "metadata": {
    "colab": {
      "provenance": [],
      "authorship_tag": "ABX9TyOAt5G6ujOj6SygfUJ0GzYi",
      "include_colab_link": true
    },
    "kernelspec": {
      "name": "python3",
      "display_name": "Python 3"
    },
    "language_info": {
      "name": "python"
    }
  },
  "cells": [
    {
      "cell_type": "markdown",
      "metadata": {
        "id": "view-in-github",
        "colab_type": "text"
      },
      "source": [
        "<a href=\"https://colab.research.google.com/github/BeraAu/CodingEveryday/blob/main/202502/20250223.ipynb\" target=\"_parent\"><img src=\"https://colab.research.google.com/assets/colab-badge.svg\" alt=\"Open In Colab\"/></a>"
      ]
    },
    {
      "cell_type": "code",
      "execution_count": 9,
      "metadata": {
        "colab": {
          "base_uri": "https://localhost:8080/"
        },
        "id": "sg1DzOemHUaE",
        "outputId": "5ad22ef6-e385-43bb-c1a8-683a9f899c73"
      },
      "outputs": [
        {
          "output_type": "stream",
          "name": "stdout",
          "text": [
            "3\n",
            "67114656 67114657 67114658\n",
            "Yes\n"
          ]
        }
      ],
      "source": [
        "#390B\n",
        "n = int(input())\n",
        "nums = list(map(int, input().split()))\n",
        "a = nums[1] / nums[0]\n",
        "flag = True\n",
        "for i in range(n - 1):\n",
        "  if (nums[i + 1] / nums[i]) == a:continue\n",
        "  else:\n",
        "    flag = False\n",
        "    break\n",
        "if flag:\n",
        "  print(\"Yes\")\n",
        "else:\n",
        "  print(\"No\")"
      ]
    },
    {
      "cell_type": "code",
      "source": [
        "n = int(input())\n",
        "nums = list(map(int, input().split()))\n",
        "\n",
        "if n <= 2:\n",
        "    print(\"Yes\")\n",
        "else:\n",
        "    flag = True\n",
        "    for i in range(n - 2):\n",
        "        if nums[i + 1] * nums[i + 1] != nums[i] * nums[i + 2]:\n",
        "            flag = False\n",
        "            break\n",
        "    if flag:\n",
        "        print(\"Yes\")\n",
        "    else:\n",
        "        print(\"No\")"
      ],
      "metadata": {
        "id": "baFR8xkKMYVU"
      },
      "execution_count": null,
      "outputs": []
    }
  ]
}