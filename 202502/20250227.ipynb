{
  "nbformat": 4,
  "nbformat_minor": 0,
  "metadata": {
    "colab": {
      "provenance": [],
      "authorship_tag": "ABX9TyMTHrW7aZJ11d3wnqOpNvlK",
      "include_colab_link": true
    },
    "kernelspec": {
      "name": "python3",
      "display_name": "Python 3"
    },
    "language_info": {
      "name": "python"
    }
  },
  "cells": [
    {
      "cell_type": "markdown",
      "metadata": {
        "id": "view-in-github",
        "colab_type": "text"
      },
      "source": [
        "<a href=\"https://colab.research.google.com/github/BeraAu/CodingEveryday/blob/main/202502/20250227.ipynb\" target=\"_parent\"><img src=\"https://colab.research.google.com/assets/colab-badge.svg\" alt=\"Open In Colab\"/></a>"
      ]
    },
    {
      "cell_type": "code",
      "execution_count": 1,
      "metadata": {
        "id": "qxkoymYQQSqA",
        "colab": {
          "base_uri": "https://localhost:8080/"
        },
        "outputId": "de6af86c-21f7-4966-8fc0-88d59a572df1"
      },
      "outputs": [
        {
          "output_type": "stream",
          "name": "stdout",
          "text": [
            "20 25\n",
            "2025\n"
          ]
        }
      ],
      "source": [
        "#387A\n",
        "a, b = map(int, input().split())\n",
        "print((a + b) * (a + b))"
      ]
    },
    {
      "cell_type": "code",
      "source": [
        "#387B\n",
        "x = int(input())\n",
        "sum = 0\n",
        "grid = [] * 9\n",
        "for i in range(1, 10):\n",
        "  nums = [1, 2, 3, 4, 5, 6, 7, 8, 9]\n",
        "  mul = [x * i for x in nums]\n",
        "  grid.append(mul)\n",
        "\n",
        "for i in range(len(grid)):\n",
        "  for j in range(len(grid[i])):\n",
        "    if x == grid[i][j]:continue\n",
        "    else:\n",
        "      sum += grid[i][j]\n",
        "\n",
        "print(sum)\n"
      ],
      "metadata": {
        "colab": {
          "base_uri": "https://localhost:8080/"
        },
        "id": "H-nTowPFTj_S",
        "outputId": "7b75e13f-e509-4503-b167-9de70fb4ccd5"
      },
      "execution_count": 3,
      "outputs": [
        {
          "output_type": "stream",
          "name": "stdout",
          "text": [
            "11\n",
            "2025\n"
          ]
        }
      ]
    }
  ]
}