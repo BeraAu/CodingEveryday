{
  "nbformat": 4,
  "nbformat_minor": 0,
  "metadata": {
    "colab": {
      "provenance": [],
      "authorship_tag": "ABX9TyNGBqI091wtSyb248PnBMwO",
      "include_colab_link": true
    },
    "kernelspec": {
      "name": "python3",
      "display_name": "Python 3"
    },
    "language_info": {
      "name": "python"
    }
  },
  "cells": [
    {
      "cell_type": "markdown",
      "metadata": {
        "id": "view-in-github",
        "colab_type": "text"
      },
      "source": [
        "<a href=\"https://colab.research.google.com/github/BeraAu/CodingEveryday/blob/main/202502/20250225.ipynb\" target=\"_parent\"><img src=\"https://colab.research.google.com/assets/colab-badge.svg\" alt=\"Open In Colab\"/></a>"
      ]
    },
    {
      "cell_type": "code",
      "execution_count": 7,
      "metadata": {
        "colab": {
          "base_uri": "https://localhost:8080/"
        },
        "id": "nqKChJglifDh",
        "outputId": "3a9ae858-caed-41c7-d3d0-e3161c824202"
      },
      "outputs": [
        {
          "output_type": "stream",
          "name": "stdout",
          "text": [
            "2432902008176640000\n",
            "20\n"
          ]
        }
      ],
      "source": [
        "#389B\n",
        "\n",
        "x = int(input())\n",
        "m = 1\n",
        "n = 1\n",
        "while x > m:\n",
        "  m = m * n\n",
        "  if x == m:\n",
        "    continue\n",
        "  else:\n",
        "    n += 1\n",
        "else:\n",
        "  print(n)\n",
        "\n"
      ]
    },
    {
      "cell_type": "code",
      "source": [
        "x = int(input())\n",
        "product = 1\n",
        "exponent = 1\n",
        "\n",
        "while True:\n",
        "    if product * exponent > x:\n",
        "        break\n",
        "    product *= exponent\n",
        "    exponent += 1\n",
        "\n",
        "print(exponent - 1)"
      ],
      "metadata": {
        "id": "XBoDhgw6nEv7"
      },
      "execution_count": null,
      "outputs": []
    }
  ]
}