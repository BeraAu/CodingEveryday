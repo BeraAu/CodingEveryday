{
  "nbformat": 4,
  "nbformat_minor": 0,
  "metadata": {
    "colab": {
      "provenance": [],
      "authorship_tag": "ABX9TyPW445d0/9ewNZbb7RfHGo3",
      "include_colab_link": true
    },
    "kernelspec": {
      "name": "python3",
      "display_name": "Python 3"
    },
    "language_info": {
      "name": "python"
    }
  },
  "cells": [
    {
      "cell_type": "markdown",
      "metadata": {
        "id": "view-in-github",
        "colab_type": "text"
      },
      "source": [
        "<a href=\"https://colab.research.google.com/github/BeraAu/CodingEveryday/blob/main/20250221.ipynb\" target=\"_parent\"><img src=\"https://colab.research.google.com/assets/colab-badge.svg\" alt=\"Open In Colab\"/></a>"
      ]
    },
    {
      "cell_type": "code",
      "execution_count": null,
      "metadata": {
        "id": "aQLZvRHT5E-0"
      },
      "outputs": [],
      "source": []
    },
    {
      "cell_type": "code",
      "source": [
        "#391B\n",
        "n, m = map(int, input().split())\n",
        "listS = []\n",
        "listT = []\n",
        "\n",
        "for i in range(n):\n",
        "  listS.append(input())  # 文字列として直接入力\n",
        "for i in range(m):\n",
        "  listT.append(input())  # 文字列として直接入力\n",
        "\n",
        "for i in range(n - m + 1):\n",
        "  for j in range(n - m + 1):\n",
        "    match = True  # マッチフラグ\n",
        "    for k in range(m):\n",
        "      if listS[i + k][j:j + m] != listT[k]:\n",
        "        match = False\n",
        "        break\n",
        "    if match:  # 全てのマッチが成功した場合\n",
        "      print(i + 1, j + 1)\n",
        "      exit(0)\n",
        "\n",
        "\n",
        "\n",
        ""
      ],
      "metadata": {
        "colab": {
          "base_uri": "https://localhost:8080/"
        },
        "id": "IMQdRjhV5kTl",
        "outputId": "0af54cb6-1ea3-4183-ef19-ae6efddf2b75"
      },
      "execution_count": 8,
      "outputs": [
        {
          "output_type": "stream",
          "name": "stdout",
          "text": [
            "3 2\n",
            "3 2\n",
            "#.#\n",
            "..#\n",
            "##.\n",
            ".#\n",
            "#.\n",
            "1 2\n",
            "2 2\n",
            "2 2\n"
          ]
        }
      ]
    },
    {
      "cell_type": "code",
      "source": [
        "list"
      ],
      "metadata": {
        "id": "tyNaconf73Fh"
      },
      "execution_count": null,
      "outputs": []
    }
  ]
}
