{
  "nbformat": 4,
  "nbformat_minor": 0,
  "metadata": {
    "colab": {
      "provenance": [],
      "authorship_tag": "ABX9TyPiENmJEX/cGn1+eV82DkPF",
      "include_colab_link": true
    },
    "kernelspec": {
      "name": "python3",
      "display_name": "Python 3"
    },
    "language_info": {
      "name": "python"
    }
  },
  "cells": [
    {
      "cell_type": "markdown",
      "metadata": {
        "id": "view-in-github",
        "colab_type": "text"
      },
      "source": [
        "<a href=\"https://colab.research.google.com/github/BeraAu/CodingEveryday/blob/main/202502/20250228.ipynb\" target=\"_parent\"><img src=\"https://colab.research.google.com/assets/colab-badge.svg\" alt=\"Open In Colab\"/></a>"
      ]
    },
    {
      "cell_type": "code",
      "execution_count": 6,
      "metadata": {
        "colab": {
          "base_uri": "https://localhost:8080/"
        },
        "id": "8IiiojUVRW93",
        "outputId": "45d8e09b-7019-4ed9-88b5-a3868d7b985a"
      },
      "outputs": [
        {
          "output_type": "stream",
          "name": "stdout",
          "text": [
            "WWWWW\n",
            "WWWWW\n"
          ]
        }
      ],
      "source": [
        "#394C\n",
        "s = input()\n",
        "while True:\n",
        "  if \"WA\" not in s:break\n",
        "  else:\n",
        "    s = s.replace(\"WA\", \"AC\")\n",
        "print(s)"
      ]
    },
    {
      "cell_type": "code",
      "source": [
        "#394C\n",
        "s = list(input())\n",
        "n = len (s)\n",
        "\n",
        "for i in range(n - 1):\n",
        "  if s[n - i - 1] == \"A\" and s[n - i - 2] == \"W\":\n",
        "    s[n - i - 1] = \"C\"\n",
        "    s[n - i - 2] = \"A\"\n",
        "print(\"\".join(s))\n",
        "\n"
      ],
      "metadata": {
        "colab": {
          "base_uri": "https://localhost:8080/"
        },
        "id": "Wz0RaxRiVgG2",
        "outputId": "45d354de-f59f-4f0d-9bc2-74a42ca94152"
      },
      "execution_count": 1,
      "outputs": [
        {
          "output_type": "stream",
          "name": "stdout",
          "text": [
            "WWWWWA\n",
            "ACCCCC\n"
          ]
        }
      ]
    }
  ]
}